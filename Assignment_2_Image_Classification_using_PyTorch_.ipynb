{
  "nbformat": 4,
  "nbformat_minor": 0,
  "metadata": {
    "colab": {
      "name": "Assignment 2 Image Classification using PyTorch .ipynb",
      "provenance": [],
      "collapsed_sections": []
    },
    "kernelspec": {
      "name": "python3",
      "display_name": "Python 3"
    },
    "accelerator": "GPU"
  },
  "cells": [
    {
      "cell_type": "code",
      "metadata": {
        "id": "L0p7fVPYfMDP"
      },
      "source": [
        "%matplotlib inline \r\n",
        "\r\n",
        "import numpy as np\r\n",
        "import torch as th\r\n",
        "import torchvision\r\n",
        "import torchvision.transforms as transforms\r\n",
        "import torch.optim as optim\r\n",
        "\r\n",
        "import torch.nn as nn\r\n",
        "import torch.nn.functional as F\r\n",
        "\r\n",
        "import matplotlib.pyplot as plt"
      ],
      "execution_count": 3,
      "outputs": []
    },
    {
      "cell_type": "code",
      "metadata": {
        "colab": {
          "base_uri": "https://localhost:8080/"
        },
        "id": "ZhxpGl7WnYEH",
        "outputId": "4743d606-c713-4aff-fb0e-fd29943d7b57"
      },
      "source": [
        "device = th.device(\"cuda\" if th.cuda.is_available() else \"gpu\")\r\n",
        "device"
      ],
      "execution_count": 4,
      "outputs": [
        {
          "output_type": "execute_result",
          "data": {
            "text/plain": [
              "device(type='cuda')"
            ]
          },
          "metadata": {
            "tags": []
          },
          "execution_count": 4
        }
      ]
    },
    {
      "cell_type": "code",
      "metadata": {
        "id": "w2ssr7ASflvP"
      },
      "source": [
        "NUM_EPOCHS = 10\r\n",
        "CLASSES = [\"airplanes\", \"cars\", \"dog\", \"faces\", \"keyboard\"]\r\n",
        "LEARNING_RATE = 0.01"
      ],
      "execution_count": 3,
      "outputs": []
    },
    {
      "cell_type": "code",
      "metadata": {
        "id": "yYGa3G5lf_Gz"
      },
      "source": [
        "class ConvolutionNeuralNetwork(nn.Module):\n",
        "  def __init__(self):\n",
        "    super().__init__()\n",
        "    self.conv1 = nn.Conv2d(in_channels=3, kernel_size=7, filter=64, stride=2, padding=3)\n",
        "    self.pool1 = nn.MaxPool2d(kernel_size=3, stride=2, padding=0)\n",
        "    self.conv2 = nn.Conv2d(in_channels=3, kernel_size=3, stride=1, padding=1, filter=64)\n",
        "    self.pool2 = nn.MaxPool2d(kernel_size=3, stride=2, padding=0)\n",
        "\n",
        "    self.fc1 = nn.Linear(3 * 250 * 250, 5)\n",
        "    self.fc\n",
        "\n",
        "  def forwrd(self, x):\n",
        "    x = F.relu(self.conv1)\n",
        "    x = self.pool1(x)\n",
        "    x = F.relu(self.conv2)\n",
        "    x = self.pool2(x)\n",
        "    return x "
      ],
      "execution_count": null,
      "outputs": []
    },
    {
      "cell_type": "code",
      "metadata": {
        "id": "N-VZhaNX6mWq"
      },
      "source": [
        "def lossAndOptimizer(net, learning_rate=LEARNING_RATE):\r\n",
        "  criterion = nn.CrossEntropyLoss()\r\n",
        "  optimizer = optim.Adam(net.parameters(), lr=learning_rate)\r\n",
        "  return criterion, optimizer"
      ],
      "execution_count": null,
      "outputs": []
    },
    {
      "cell_type": "code",
      "metadata": {
        "colab": {
          "base_uri": "https://localhost:8080/",
          "height": 171
        },
        "id": "YSUoSBa30ZCt",
        "outputId": "db7f1926-68c5-451b-e100-a8e28636a2e9"
      },
      "source": [
        "class LinearClassifier(nn.Module):\r\n",
        "  def __init__(self):\r\n",
        "    super().__init__()\r\n",
        "    self.linear = nn.Linear(250 * 250 * 3, 5)\r\n",
        "\r\n",
        "  def forward(self, x):\r\n",
        "    # Flatten input 3x250x250 -> 187500\r\n",
        "    x = x.view(x.size(0), -1)\r\n",
        "    return self.linear(x)"
      ],
      "execution_count": 1,
      "outputs": [
        {
          "output_type": "error",
          "ename": "NameError",
          "evalue": "ignored",
          "traceback": [
            "\u001b[0;31m---------------------------------------------------------------------------\u001b[0m",
            "\u001b[0;31mNameError\u001b[0m                                 Traceback (most recent call last)",
            "\u001b[0;32m<ipython-input-1-326afe0fef6a>\u001b[0m in \u001b[0;36m<module>\u001b[0;34m()\u001b[0m\n\u001b[0;32m----> 1\u001b[0;31m \u001b[0mx\u001b[0m\u001b[0;34m.\u001b[0m\u001b[0mview\u001b[0m\u001b[0;34m(\u001b[0m\u001b[0;34m-\u001b[0m\u001b[0;36m1\u001b[0m\u001b[0;34m,\u001b[0m \u001b[0;36m18\u001b[0m \u001b[0;34m*\u001b[0m \u001b[0;36m16\u001b[0m \u001b[0;34m*\u001b[0m \u001b[0;36m16\u001b[0m\u001b[0;34m)\u001b[0m\u001b[0;34m\u001b[0m\u001b[0;34m\u001b[0m\u001b[0m\n\u001b[0m",
            "\u001b[0;31mNameError\u001b[0m: name 'x' is not defined"
          ]
        }
      ]
    }
  ]
}