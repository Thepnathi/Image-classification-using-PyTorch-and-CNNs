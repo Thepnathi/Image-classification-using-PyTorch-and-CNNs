{
  "nbformat": 4,
  "nbformat_minor": 0,
  "metadata": {
    "colab": {
      "name": "Assignment 2 Image Classification using PyTorch .ipynb",
      "provenance": [],
      "collapsed_sections": []
    },
    "kernelspec": {
      "name": "python3",
      "display_name": "Python 3"
    },
    "accelerator": "GPU"
  },
  "cells": [
    {
      "cell_type": "code",
      "metadata": {
        "id": "L0p7fVPYfMDP"
      },
      "source": [
        "%matplotlib inline \r\n",
        "\r\n",
        "import numpy as np\r\n",
        "import torch as th\r\n",
        "import torchvision\r\n",
        "import torchvision.transforms as transforms\r\n",
        "import torch.optim as optim\r\n",
        "\r\n",
        "import torch.nn as nn\r\n",
        "import torch.nn.functional as F\r\n",
        "\r\n",
        "import matplotlib.pyplot as plt"
      ],
      "execution_count": 12,
      "outputs": []
    },
    {
      "cell_type": "code",
      "metadata": {
        "colab": {
          "base_uri": "https://localhost:8080/"
        },
        "id": "ZhxpGl7WnYEH",
        "outputId": "8c95700a-050b-4d5e-fb41-90b56f025743"
      },
      "source": [
        "# Use GPU for computation if possible\r\n",
        "device = th.device(\"cuda\" if th.cuda.is_available() else \"gpu\")\r\n",
        "device"
      ],
      "execution_count": 13,
      "outputs": [
        {
          "output_type": "execute_result",
          "data": {
            "text/plain": [
              "device(type='cuda')"
            ]
          },
          "metadata": {
            "tags": []
          },
          "execution_count": 13
        }
      ]
    },
    {
      "cell_type": "code",
      "metadata": {
        "id": "w2ssr7ASflvP"
      },
      "source": [
        "# Global Constants\r\n",
        "NUM_EPOCHS = 10\r\n",
        "NUM_WORKERS = 5\r\n",
        "CLASSES = [\"airplanes\", \"cars\", \"dog\", \"faces\", \"keyboard\"]\r\n",
        "LEARNING_RATE = 0.01"
      ],
      "execution_count": 14,
      "outputs": []
    },
    {
      "cell_type": "markdown",
      "metadata": {
        "id": "VYjsKHcYvnMu"
      },
      "source": [
        "# Convolution Neural Network Properties\r\n",
        "\r\n",
        "* **First hidden layer**: conv layer with filter size 7x7, stride 2, padding 3, 64 channels, followed by Batch Normalization and ReLu\r\n",
        "* **Second hidden layer**: max pooling with filter size 3x3, stride 2 and padding 0\r\n",
        "* **Third hidden layer**: conv layer with filter size 3x3, stride 1, padding 1, 64 channels, followed by Batch Normalization and Relu\r\n",
        "* **Fourth hidden layer**:  max pooling with filter size 3x3, stride 2, padding 0"
      ]
    },
    {
      "cell_type": "code",
      "metadata": {
        "id": "yYGa3G5lf_Gz"
      },
      "source": [
        "class ConvolutionNeuralNetwork(nn.Module):\r\n",
        "  def __init__(self):\r\n",
        "    super().__init__()\r\n",
        "    self.conv1 = nn.Conv2d(in_channels=3, kernel_size=7, filter=64, stride=2, padding=3)\r\n",
        "    self.pool1 = nn.MaxPool2d(kernel_size=3, stride=2, padding=0)\r\n",
        "    self.conv2 = nn.Conv2d(in_channels=3, kernel_size=3, stride=1, padding=1, filter=64)\r\n",
        "    self.pool2 = nn.MaxPool2d(kernel_size=3, stride=2, padding=0)\r\n",
        "\r\n",
        "    # Fully connected layer with output of 5 channels (classes)\r\n",
        "    self.fc = nn.Linear(3 * 250 * 250, 5)\r\n",
        "\r\n",
        "  def forwrd(self, x):\r\n",
        "    x = F.relu(nn.BatchNorm2d(self.conv1))\r\n",
        "    x = self.pool1(x)\r\n",
        "    x = F.relu(nn.BatchNorm2d(self.conv2))\r\n",
        "    x = self.pool2(x)\r\n",
        "    x = self.fc(x)\r\n",
        "    return x "
      ],
      "execution_count": 15,
      "outputs": []
    },
    {
      "cell_type": "code",
      "metadata": {
        "id": "N-VZhaNX6mWq"
      },
      "source": [
        "def lossAndOptimizer(net, learning_rate=LEARNING_RATE):\r\n",
        "  criterion = nn.CrossEntropyLoss()\r\n",
        "  optimizer = optim.Adam(net.parameters(), lr=learning_rate)\r\n",
        "  return criterion, optimizer"
      ],
      "execution_count": 16,
      "outputs": []
    },
    {
      "cell_type": "code",
      "metadata": {
        "id": "YSUoSBa30ZCt"
      },
      "source": [
        "class LinearClassifier(nn.Module):\r\n",
        "  def __init__(self):\r\n",
        "    super().__init__()\r\n",
        "    self.linear = nn.Linear(250 * 250 * 3, 5)\r\n",
        "\r\n",
        "  def forward(self, x):\r\n",
        "    # Flatten input 3x250x250 -> 187500\r\n",
        "    x = x.view(x.size(0), -1)\r\n",
        "    return self.linear(x)"
      ],
      "execution_count": 17,
      "outputs": []
    },
    {
      "cell_type": "code",
      "metadata": {
        "id": "u84rZqV5w5G1"
      },
      "source": [
        ""
      ],
      "execution_count": 17,
      "outputs": []
    }
  ]
}